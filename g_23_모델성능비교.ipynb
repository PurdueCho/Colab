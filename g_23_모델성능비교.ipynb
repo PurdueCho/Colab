{
  "nbformat": 4,
  "nbformat_minor": 0,
  "metadata": {
    "kernelspec": {
      "display_name": "Python 3",
      "language": "python",
      "name": "python3"
    },
    "language_info": {
      "codemirror_mode": {
        "name": "ipython",
        "version": 3
      },
      "file_extension": ".py",
      "mimetype": "text/x-python",
      "name": "python",
      "nbconvert_exporter": "python",
      "pygments_lexer": "ipython3",
      "version": "3.6.6"
    },
    "colab": {
      "name": "g_23_모델성능비교.ipynb",
      "provenance": [],
      "collapsed_sections": []
    }
  },
  "cells": [
    {
      "cell_type": "markdown",
      "metadata": {
        "_cell_guid": "6876755d-3552-491d-b416-a012fbe221e4",
        "_uuid": "0b46910d15d98513ea81fb24e0f8ab28134c5f5f",
        "id": "oIe_UpEc3AwN",
        "colab_type": "text"
      },
      "source": [
        "분류 성능비교\n",
        "==\n",
        "\n",
        "다루는 내용\n",
        "--\n",
        "- 분류 알고리즘 비교\n",
        "- 리지 규제, 라쏘 규제\n",
        "- 교차검증\n",
        "- 정적 성능평가 Confusion matrix  \n",
        "- 동적 성능평가 ROC\n",
        "\n",
        "데이터\n",
        "--\n",
        "- 포도주 품질 분류 https://goo.gl/Gyc8K7\n",
        "\n"
      ]
    },
    {
      "cell_type": "markdown",
      "metadata": {
        "id": "Mi8wE6Lb3AwR",
        "colab_type": "text"
      },
      "source": [
        "모듈 불러오기\n",
        "--"
      ]
    },
    {
      "cell_type": "code",
      "metadata": {
        "_cell_guid": "87c7b371-53b1-4d4d-bfbd-373d2b84b33a",
        "_uuid": "da5343fb3f6b3942909c94bf8e2add04fd3ff1a3",
        "id": "oyfRCPTW3AwS",
        "colab_type": "code",
        "colab": {}
      },
      "source": [
        "import pandas as pd\n",
        "import numpy as np\n",
        "import matplotlib.pyplot as plt\n",
        "from sklearn import tree\n",
        "from sklearn.ensemble import RandomForestClassifier \n",
        "from sklearn.svm import SVC \n",
        "from sklearn.linear_model import SGDClassifier, LogisticRegression\n",
        "from sklearn.metrics import confusion_matrix, classification_report, roc_curve, auc\n",
        "from sklearn.preprocessing import StandardScaler, LabelEncoder\n",
        "from sklearn.model_selection import train_test_split, GridSearchCV, cross_val_score \n",
        "%matplotlib inline\n",
        "%config InlineBackend.figure_format = 'retina'"
      ],
      "execution_count": 0,
      "outputs": []
    },
    {
      "cell_type": "code",
      "metadata": {
        "id": "-ZD_iFJyye2J",
        "colab_type": "code",
        "outputId": "6223f5b6-0d82-4763-fc91-e8c9c33afb58",
        "colab": {
          "base_uri": "https://localhost:8080/",
          "height": 125
        }
      },
      "source": [
        "!curl -L https://goo.gl/Gyc8K7 -o wine.csv"
      ],
      "execution_count": 2,
      "outputs": [
        {
          "output_type": "stream",
          "text": [
            "  % Total    % Received % Xferd  Average Speed   Time    Time     Time  Current\n",
            "                                 Dload  Upload   Total   Spent    Left  Speed\n",
            "\r  0     0    0     0    0     0      0      0 --:--:-- --:--:-- --:--:--     0\r  0     0    0     0    0     0      0      0 --:--:-- --:--:-- --:--:--     0\n",
            "  0     0    0     0    0     0      0      0 --:--:-- --:--:-- --:--:--     0\n",
            "  0     0    0     0    0     0      0      0 --:--:-- --:--:-- --:--:--     0\n",
            "100   98k  100   98k    0     0   150k      0 --:--:-- --:--:-- --:--:--  150k\n"
          ],
          "name": "stdout"
        }
      ]
    },
    {
      "cell_type": "markdown",
      "metadata": {
        "id": "yHLsRWYw3AwX",
        "colab_type": "text"
      },
      "source": [
        "데이터 읽기 (포도주 품질 평가)\n",
        "--"
      ]
    },
    {
      "cell_type": "code",
      "metadata": {
        "_cell_guid": "800f9ff4-79bf-4785-9569-23e1d9b9b03b",
        "_uuid": "07c8409e4eccd80507d9846e8cc70ea42e58cbe6",
        "id": "4w8QxNYv3AwY",
        "colab_type": "code",
        "outputId": "3a225df6-063b-48b1-f2f5-8be60e3cc35e",
        "colab": {
          "base_uri": "https://localhost:8080/",
          "height": 222
        }
      },
      "source": [
        "wine = pd.read_csv('wine.csv')\n",
        "print(wine.shape)\n",
        "wine.head(5)"
      ],
      "execution_count": 3,
      "outputs": [
        {
          "output_type": "stream",
          "text": [
            "(1599, 12)\n"
          ],
          "name": "stdout"
        },
        {
          "output_type": "execute_result",
          "data": {
            "text/html": [
              "<div>\n",
              "<style scoped>\n",
              "    .dataframe tbody tr th:only-of-type {\n",
              "        vertical-align: middle;\n",
              "    }\n",
              "\n",
              "    .dataframe tbody tr th {\n",
              "        vertical-align: top;\n",
              "    }\n",
              "\n",
              "    .dataframe thead th {\n",
              "        text-align: right;\n",
              "    }\n",
              "</style>\n",
              "<table border=\"1\" class=\"dataframe\">\n",
              "  <thead>\n",
              "    <tr style=\"text-align: right;\">\n",
              "      <th></th>\n",
              "      <th>fixed acidity</th>\n",
              "      <th>volatile acidity</th>\n",
              "      <th>citric acid</th>\n",
              "      <th>residual sugar</th>\n",
              "      <th>chlorides</th>\n",
              "      <th>free sulfur dioxide</th>\n",
              "      <th>total sulfur dioxide</th>\n",
              "      <th>density</th>\n",
              "      <th>pH</th>\n",
              "      <th>sulphates</th>\n",
              "      <th>alcohol</th>\n",
              "      <th>quality</th>\n",
              "    </tr>\n",
              "  </thead>\n",
              "  <tbody>\n",
              "    <tr>\n",
              "      <th>0</th>\n",
              "      <td>7.4</td>\n",
              "      <td>0.70</td>\n",
              "      <td>0.00</td>\n",
              "      <td>1.9</td>\n",
              "      <td>0.076</td>\n",
              "      <td>11.0</td>\n",
              "      <td>34.0</td>\n",
              "      <td>0.9978</td>\n",
              "      <td>3.51</td>\n",
              "      <td>0.56</td>\n",
              "      <td>9.4</td>\n",
              "      <td>5</td>\n",
              "    </tr>\n",
              "    <tr>\n",
              "      <th>1</th>\n",
              "      <td>7.8</td>\n",
              "      <td>0.88</td>\n",
              "      <td>0.00</td>\n",
              "      <td>2.6</td>\n",
              "      <td>0.098</td>\n",
              "      <td>25.0</td>\n",
              "      <td>67.0</td>\n",
              "      <td>0.9968</td>\n",
              "      <td>3.20</td>\n",
              "      <td>0.68</td>\n",
              "      <td>9.8</td>\n",
              "      <td>5</td>\n",
              "    </tr>\n",
              "    <tr>\n",
              "      <th>2</th>\n",
              "      <td>7.8</td>\n",
              "      <td>0.76</td>\n",
              "      <td>0.04</td>\n",
              "      <td>2.3</td>\n",
              "      <td>0.092</td>\n",
              "      <td>15.0</td>\n",
              "      <td>54.0</td>\n",
              "      <td>0.9970</td>\n",
              "      <td>3.26</td>\n",
              "      <td>0.65</td>\n",
              "      <td>9.8</td>\n",
              "      <td>5</td>\n",
              "    </tr>\n",
              "    <tr>\n",
              "      <th>3</th>\n",
              "      <td>11.2</td>\n",
              "      <td>0.28</td>\n",
              "      <td>0.56</td>\n",
              "      <td>1.9</td>\n",
              "      <td>0.075</td>\n",
              "      <td>17.0</td>\n",
              "      <td>60.0</td>\n",
              "      <td>0.9980</td>\n",
              "      <td>3.16</td>\n",
              "      <td>0.58</td>\n",
              "      <td>9.8</td>\n",
              "      <td>6</td>\n",
              "    </tr>\n",
              "    <tr>\n",
              "      <th>4</th>\n",
              "      <td>7.4</td>\n",
              "      <td>0.70</td>\n",
              "      <td>0.00</td>\n",
              "      <td>1.9</td>\n",
              "      <td>0.076</td>\n",
              "      <td>11.0</td>\n",
              "      <td>34.0</td>\n",
              "      <td>0.9978</td>\n",
              "      <td>3.51</td>\n",
              "      <td>0.56</td>\n",
              "      <td>9.4</td>\n",
              "      <td>5</td>\n",
              "    </tr>\n",
              "  </tbody>\n",
              "</table>\n",
              "</div>"
            ],
            "text/plain": [
              "   fixed acidity  volatile acidity  citric acid  ...  sulphates  alcohol  quality\n",
              "0            7.4              0.70         0.00  ...       0.56      9.4        5\n",
              "1            7.8              0.88         0.00  ...       0.68      9.8        5\n",
              "2            7.8              0.76         0.04  ...       0.65      9.8        5\n",
              "3           11.2              0.28         0.56  ...       0.58      9.8        6\n",
              "4            7.4              0.70         0.00  ...       0.56      9.4        5\n",
              "\n",
              "[5 rows x 12 columns]"
            ]
          },
          "metadata": {
            "tags": []
          },
          "execution_count": 3
        }
      ]
    },
    {
      "cell_type": "markdown",
      "metadata": {
        "id": "dnxAADBI3Awd",
        "colab_type": "text"
      },
      "source": [
        "- fixed acidity - 결합 산도 \n",
        "- volatile acidity - 휘발성 산도 \n",
        "- citric acid - 시트르산 \n",
        "- residual sugar - 잔류 설탕 \n",
        "- chlorides\t - 염화물 \n",
        "- free sulfur dioxide - 자유 이산화황 \n",
        "- total sulfur dioxide - 총 이산화황 \n",
        "- density - 밀도 \n",
        "- pH - pH \n",
        "- sulphates - 황산염 \n",
        "- alcohol - 알코올 \n",
        "- quality - 품질 (0 ~ 10 점)"
      ]
    },
    {
      "cell_type": "code",
      "metadata": {
        "_cell_guid": "704f4830-5804-436d-9b78-6ca00f5ae510",
        "_uuid": "af141503385967f92d409c5e111e2724b4c9636f",
        "id": "YbWc0MRN3Awe",
        "colab_type": "code",
        "outputId": "187bbdd1-433e-402f-c4c1-258853acc908",
        "colab": {
          "base_uri": "https://localhost:8080/",
          "height": 359
        }
      },
      "source": [
        "wine.info() # 데이터 정보"
      ],
      "execution_count": 4,
      "outputs": [
        {
          "output_type": "stream",
          "text": [
            "<class 'pandas.core.frame.DataFrame'>\n",
            "RangeIndex: 1599 entries, 0 to 1598\n",
            "Data columns (total 12 columns):\n",
            " #   Column                Non-Null Count  Dtype  \n",
            "---  ------                --------------  -----  \n",
            " 0   fixed acidity         1599 non-null   float64\n",
            " 1   volatile acidity      1599 non-null   float64\n",
            " 2   citric acid           1599 non-null   float64\n",
            " 3   residual sugar        1599 non-null   float64\n",
            " 4   chlorides             1599 non-null   float64\n",
            " 5   free sulfur dioxide   1599 non-null   float64\n",
            " 6   total sulfur dioxide  1599 non-null   float64\n",
            " 7   density               1599 non-null   float64\n",
            " 8   pH                    1599 non-null   float64\n",
            " 9   sulphates             1599 non-null   float64\n",
            " 10  alcohol               1599 non-null   float64\n",
            " 11  quality               1599 non-null   int64  \n",
            "dtypes: float64(11), int64(1)\n",
            "memory usage: 150.0 KB\n"
          ],
          "name": "stdout"
        }
      ]
    },
    {
      "cell_type": "code",
      "metadata": {
        "id": "ycSIoATf3Awi",
        "colab_type": "code",
        "outputId": "5c41fd8c-7c47-41b8-cd32-11dd075d0f33",
        "colab": {
          "base_uri": "https://localhost:8080/",
          "height": 89
        }
      },
      "source": [
        "wine.columns"
      ],
      "execution_count": 5,
      "outputs": [
        {
          "output_type": "execute_result",
          "data": {
            "text/plain": [
              "Index(['fixed acidity', 'volatile acidity', 'citric acid', 'residual sugar',\n",
              "       'chlorides', 'free sulfur dioxide', 'total sulfur dioxide', 'density',\n",
              "       'pH', 'sulphates', 'alcohol', 'quality'],\n",
              "      dtype='object')"
            ]
          },
          "metadata": {
            "tags": []
          },
          "execution_count": 5
        }
      ]
    },
    {
      "cell_type": "markdown",
      "metadata": {
        "_cell_guid": "9838ca3d-4b89-4503-9d7e-247cc3a9730b",
        "_uuid": "974be3136a2f13bf26a88b26cbddbf73f5cafda9",
        "id": "wWt3plZp3Awm",
        "colab_type": "text"
      },
      "source": [
        "## 데이터 전처리 (레이블 만들기)"
      ]
    },
    {
      "cell_type": "code",
      "metadata": {
        "scrolled": true,
        "id": "lWs-f_Yr3Awn",
        "colab_type": "code",
        "outputId": "cb1b6e0f-e105-4afd-8cf0-f4d9d5c02f2b",
        "colab": {
          "base_uri": "https://localhost:8080/",
          "height": 143
        }
      },
      "source": [
        "wine['quality'].value_counts()"
      ],
      "execution_count": 6,
      "outputs": [
        {
          "output_type": "execute_result",
          "data": {
            "text/plain": [
              "5    681\n",
              "6    638\n",
              "7    199\n",
              "4     53\n",
              "8     18\n",
              "3     10\n",
              "Name: quality, dtype: int64"
            ]
          },
          "metadata": {
            "tags": []
          },
          "execution_count": 6
        }
      ]
    },
    {
      "cell_type": "code",
      "metadata": {
        "_cell_guid": "33e1c5c0-a65a-4918-8d94-db8e4c521d50",
        "_uuid": "3f082340d1b157391052f0fa20a44aa0105ce987",
        "id": "mu_zjQ_T3Awr",
        "colab_type": "code",
        "outputId": "0b2246a1-d06c-45ff-dca6-a0d9feccb5f4",
        "colab": {
          "base_uri": "https://localhost:8080/",
          "height": 71
        }
      },
      "source": [
        "# 품질이 좋고 나쁜 것을 나누는 기준 설정\n",
        "# 6.5를 기준으로 bad(0) good(1)으로 나눈다 (임의로 나눈 것임)\n",
        "my_bins = (2.5, 6.5, 8.5)\n",
        "groups = [0, 1]\n",
        "wine['qual'] = pd.cut(wine['quality'], bins = my_bins, labels = groups) \n",
        "\n",
        "wine['qual'].value_counts()"
      ],
      "execution_count": 7,
      "outputs": [
        {
          "output_type": "execute_result",
          "data": {
            "text/plain": [
              "0    1382\n",
              "1     217\n",
              "Name: qual, dtype: int64"
            ]
          },
          "metadata": {
            "tags": []
          },
          "execution_count": 7
        }
      ]
    },
    {
      "cell_type": "code",
      "metadata": {
        "_cell_guid": "33e1c5c0-a65a-4918-8d94-db8e4c521d50",
        "_uuid": "3f082340d1b157391052f0fa20a44aa0105ce987",
        "id": "TN-_J4qX3Awu",
        "colab_type": "code",
        "outputId": "edbeec97-7058-489f-f85e-e17a04756847",
        "colab": {
          "base_uri": "https://localhost:8080/",
          "height": 71
        }
      },
      "source": [
        "X = wine.drop(['quality', 'qual'], axis = 1) \n",
        "y = wine['qual'] \n",
        "\n",
        "y.value_counts()"
      ],
      "execution_count": 8,
      "outputs": [
        {
          "output_type": "execute_result",
          "data": {
            "text/plain": [
              "0    1382\n",
              "1     217\n",
              "Name: qual, dtype: int64"
            ]
          },
          "metadata": {
            "tags": []
          },
          "execution_count": 8
        }
      ]
    },
    {
      "cell_type": "code",
      "metadata": {
        "id": "mRkAkPid3Awy",
        "colab_type": "code",
        "outputId": "da1134a6-aaa0-4231-f47c-9f3cb60d1faf",
        "colab": {
          "base_uri": "https://localhost:8080/",
          "height": 142
        }
      },
      "source": [
        "X[:3]"
      ],
      "execution_count": 9,
      "outputs": [
        {
          "output_type": "execute_result",
          "data": {
            "text/html": [
              "<div>\n",
              "<style scoped>\n",
              "    .dataframe tbody tr th:only-of-type {\n",
              "        vertical-align: middle;\n",
              "    }\n",
              "\n",
              "    .dataframe tbody tr th {\n",
              "        vertical-align: top;\n",
              "    }\n",
              "\n",
              "    .dataframe thead th {\n",
              "        text-align: right;\n",
              "    }\n",
              "</style>\n",
              "<table border=\"1\" class=\"dataframe\">\n",
              "  <thead>\n",
              "    <tr style=\"text-align: right;\">\n",
              "      <th></th>\n",
              "      <th>fixed acidity</th>\n",
              "      <th>volatile acidity</th>\n",
              "      <th>citric acid</th>\n",
              "      <th>residual sugar</th>\n",
              "      <th>chlorides</th>\n",
              "      <th>free sulfur dioxide</th>\n",
              "      <th>total sulfur dioxide</th>\n",
              "      <th>density</th>\n",
              "      <th>pH</th>\n",
              "      <th>sulphates</th>\n",
              "      <th>alcohol</th>\n",
              "    </tr>\n",
              "  </thead>\n",
              "  <tbody>\n",
              "    <tr>\n",
              "      <th>0</th>\n",
              "      <td>7.4</td>\n",
              "      <td>0.70</td>\n",
              "      <td>0.00</td>\n",
              "      <td>1.9</td>\n",
              "      <td>0.076</td>\n",
              "      <td>11.0</td>\n",
              "      <td>34.0</td>\n",
              "      <td>0.9978</td>\n",
              "      <td>3.51</td>\n",
              "      <td>0.56</td>\n",
              "      <td>9.4</td>\n",
              "    </tr>\n",
              "    <tr>\n",
              "      <th>1</th>\n",
              "      <td>7.8</td>\n",
              "      <td>0.88</td>\n",
              "      <td>0.00</td>\n",
              "      <td>2.6</td>\n",
              "      <td>0.098</td>\n",
              "      <td>25.0</td>\n",
              "      <td>67.0</td>\n",
              "      <td>0.9968</td>\n",
              "      <td>3.20</td>\n",
              "      <td>0.68</td>\n",
              "      <td>9.8</td>\n",
              "    </tr>\n",
              "    <tr>\n",
              "      <th>2</th>\n",
              "      <td>7.8</td>\n",
              "      <td>0.76</td>\n",
              "      <td>0.04</td>\n",
              "      <td>2.3</td>\n",
              "      <td>0.092</td>\n",
              "      <td>15.0</td>\n",
              "      <td>54.0</td>\n",
              "      <td>0.9970</td>\n",
              "      <td>3.26</td>\n",
              "      <td>0.65</td>\n",
              "      <td>9.8</td>\n",
              "    </tr>\n",
              "  </tbody>\n",
              "</table>\n",
              "</div>"
            ],
            "text/plain": [
              "   fixed acidity  volatile acidity  citric acid  ...    pH  sulphates  alcohol\n",
              "0            7.4              0.70         0.00  ...  3.51       0.56      9.4\n",
              "1            7.8              0.88         0.00  ...  3.20       0.68      9.8\n",
              "2            7.8              0.76         0.04  ...  3.26       0.65      9.8\n",
              "\n",
              "[3 rows x 11 columns]"
            ]
          },
          "metadata": {
            "tags": []
          },
          "execution_count": 9
        }
      ]
    },
    {
      "cell_type": "markdown",
      "metadata": {
        "id": "954pnwih3Aw1",
        "colab_type": "text"
      },
      "source": [
        "표준 스케일링\n",
        "--\n",
        "\n",
        "전체 자료의 분포를 평균 0, 분산 1이 되도록 만든다.  \n",
        "X에는 수치 데이터만 들어야 한다.  \n",
        "테스트 데이터도 같이 스케일링하는 것을 잊지 않는다"
      ]
    },
    {
      "cell_type": "code",
      "metadata": {
        "id": "cjP8W55u3Aw2",
        "colab_type": "code",
        "colab": {}
      },
      "source": [
        "sc = StandardScaler()\n",
        "X = sc.fit_transform(X)"
      ],
      "execution_count": 0,
      "outputs": []
    },
    {
      "cell_type": "code",
      "metadata": {
        "id": "LWKOw-5r3Aw9",
        "colab_type": "code",
        "outputId": "22d70aca-88a6-48b9-e257-5777c6bfd500",
        "colab": {
          "base_uri": "https://localhost:8080/",
          "height": 179
        }
      },
      "source": [
        "X[:3]"
      ],
      "execution_count": 11,
      "outputs": [
        {
          "output_type": "execute_result",
          "data": {
            "text/plain": [
              "array([[-0.52835961,  0.96187667, -1.39147228, -0.45321841, -0.24370669,\n",
              "        -0.46619252, -0.37913269,  0.55827446,  1.28864292, -0.57920652,\n",
              "        -0.96024611],\n",
              "       [-0.29854743,  1.96744245, -1.39147228,  0.04341614,  0.2238752 ,\n",
              "         0.87263823,  0.62436323,  0.02826077, -0.7199333 ,  0.1289504 ,\n",
              "        -0.58477711],\n",
              "       [-0.29854743,  1.29706527, -1.18607043, -0.16942723,  0.09635286,\n",
              "        -0.08366945,  0.22904665,  0.13426351, -0.33117661, -0.04808883,\n",
              "        -0.58477711]])"
            ]
          },
          "metadata": {
            "tags": []
          },
          "execution_count": 11
        }
      ]
    },
    {
      "cell_type": "code",
      "metadata": {
        "_cell_guid": "d7703d9a-3397-4c42-9b38-6f341cac1cde",
        "_uuid": "bdfc0f6ba146f947f265fd493e8327366fdb5c9a",
        "id": "tbDD3ufQ3AxB",
        "colab_type": "code",
        "outputId": "9f846520-5906-4f46-e51d-79debb1931b5",
        "colab": {
          "base_uri": "https://localhost:8080/",
          "height": 35
        }
      },
      "source": [
        "# 데이터를 랜덤하게 섞은 후 80%를 훈련데이터로 사용\n",
        "np.random.seed(11)\n",
        "X_train, X_test, y_train, y_test = train_test_split(X, y, test_size = 0.2)\n",
        "\n",
        "X_train.shape, y_train.shape\n",
        "# X_test.shape, y_test.shape"
      ],
      "execution_count": 12,
      "outputs": [
        {
          "output_type": "execute_result",
          "data": {
            "text/plain": [
              "((1279, 11), (1279,))"
            ]
          },
          "metadata": {
            "tags": []
          },
          "execution_count": 12
        }
      ]
    },
    {
      "cell_type": "markdown",
      "metadata": {
        "_cell_guid": "cb7432d3-16a5-4764-b792-def2666dffbe",
        "_uuid": "6bb4d5afc35743acfd4630d12038c29f2459ce39",
        "id": "UnnwNKju3AxE",
        "colab_type": "text"
      },
      "source": [
        "## 선형 모델(확률적 경사 하강법 사용)"
      ]
    },
    {
      "cell_type": "code",
      "metadata": {
        "_cell_guid": "d6835aea-7d7c-4602-b3f3-11e26a37f816",
        "_uuid": "2e1bc3b870d29573b09f1c590ee18011e29af7c3",
        "id": "rBiRbL8K3AxF",
        "colab_type": "code",
        "outputId": "1a676a79-dea1-4e4c-aad8-fbcd74533ed0",
        "colab": {
          "base_uri": "https://localhost:8080/",
          "height": 35
        }
      },
      "source": [
        "sgd = SGDClassifier()\n",
        "sgd.fit(X_train, y_train)\n",
        "sgd.score(X_test,y_test)"
      ],
      "execution_count": 14,
      "outputs": [
        {
          "output_type": "execute_result",
          "data": {
            "text/plain": [
              "0.834375"
            ]
          },
          "metadata": {
            "tags": []
          },
          "execution_count": 14
        }
      ]
    },
    {
      "cell_type": "markdown",
      "metadata": {
        "id": "2Pbvszun3AxI",
        "colab_type": "text"
      },
      "source": [
        "결정 트리 (Decesion Tree)\n",
        "--"
      ]
    },
    {
      "cell_type": "code",
      "metadata": {
        "id": "wCULi1Ud3AxJ",
        "colab_type": "code",
        "outputId": "cce09983-421c-46fc-b7e7-6e1d8b904e9b",
        "colab": {
          "base_uri": "https://localhost:8080/",
          "height": 35
        }
      },
      "source": [
        "from sklearn import tree\n",
        "clf = tree.DecisionTreeClassifier()\n",
        "clf = clf.fit(X_train, y_train)\n",
        "clf.score(X_test,y_test)"
      ],
      "execution_count": 15,
      "outputs": [
        {
          "output_type": "execute_result",
          "data": {
            "text/plain": [
              "0.865625"
            ]
          },
          "metadata": {
            "tags": []
          },
          "execution_count": 15
        }
      ]
    },
    {
      "cell_type": "markdown",
      "metadata": {
        "_cell_guid": "0a12868b-8780-43b9-ae70-4c849407aac6",
        "_uuid": "093572f70cda59063611c1c888974e6a863ec7ef",
        "id": "koQm3Xg_3AxN",
        "colab_type": "text"
      },
      "source": [
        "## 랜덤 포래스트 (Random Forest Classifier)"
      ]
    },
    {
      "cell_type": "code",
      "metadata": {
        "id": "T3x3b8od3AxO",
        "colab_type": "code",
        "outputId": "f2c7163d-9c16-4459-d004-2e7b3736e87e",
        "colab": {
          "base_uri": "https://localhost:8080/",
          "height": 35
        }
      },
      "source": [
        "rfc = RandomForestClassifier(n_estimators=300) \n",
        "rfc.fit(X_train, y_train)\n",
        "rfc.score(X_test,y_test)"
      ],
      "execution_count": 16,
      "outputs": [
        {
          "output_type": "execute_result",
          "data": {
            "text/plain": [
              "0.91875"
            ]
          },
          "metadata": {
            "tags": []
          },
          "execution_count": 16
        }
      ]
    },
    {
      "cell_type": "markdown",
      "metadata": {
        "_cell_guid": "eda98e5a-552d-4318-8ae7-1fc45c360be4",
        "_uuid": "9ec5e14c6c24713d6b6e0aaa76ddc5d45886c626",
        "id": "XcNdmX073AxS",
        "colab_type": "text"
      },
      "source": [
        "## Support Vector Classifier (SVC)"
      ]
    },
    {
      "cell_type": "code",
      "metadata": {
        "_cell_guid": "c09c2885-0ae7-424b-8bfb-8d60eeab8910",
        "_uuid": "432c960068fac4d27d9be14a39ac0fe92933f532",
        "id": "t8k6eZ_33AxT",
        "colab_type": "code",
        "outputId": "6122cc55-132b-4513-9a7f-3647ccf9a928",
        "colab": {
          "base_uri": "https://localhost:8080/",
          "height": 35
        }
      },
      "source": [
        "svc = SVC()\n",
        "svc.fit(X_train, y_train)\n",
        "svc.score(X_test,y_test)"
      ],
      "execution_count": 17,
      "outputs": [
        {
          "output_type": "execute_result",
          "data": {
            "text/plain": [
              "0.88125"
            ]
          },
          "metadata": {
            "tags": []
          },
          "execution_count": 17
        }
      ]
    },
    {
      "cell_type": "markdown",
      "metadata": {
        "id": "ISGtJAPl3AxW",
        "colab_type": "text"
      },
      "source": [
        "Logistic Regression\n",
        "--"
      ]
    },
    {
      "cell_type": "code",
      "metadata": {
        "id": "eNZRhkIM3AxX",
        "colab_type": "code",
        "outputId": "945acb34-67f2-4d81-ca2f-addb98592ec3",
        "colab": {
          "base_uri": "https://localhost:8080/",
          "height": 35
        }
      },
      "source": [
        "log = LogisticRegression()\n",
        "log.fit(X_train, y_train)\n",
        "log.score(X_test,y_test)"
      ],
      "execution_count": 18,
      "outputs": [
        {
          "output_type": "execute_result",
          "data": {
            "text/plain": [
              "0.86875"
            ]
          },
          "metadata": {
            "tags": []
          },
          "execution_count": 18
        }
      ]
    },
    {
      "cell_type": "markdown",
      "metadata": {
        "_cell_guid": "d6cd1c1f-9531-4c6a-87c1-262dd7fb6caf",
        "_uuid": "9f705df2b81e776eedc164c5d933ff4dd4c61d31",
        "id": "_Rf1YHt73Axa",
        "colab_type": "text"
      },
      "source": [
        "## Cross validation(교차 검증)"
      ]
    },
    {
      "cell_type": "code",
      "metadata": {
        "_cell_guid": "a5507be9-a3eb-4bba-b8d5-928d015faadf",
        "_uuid": "24a7f7dc1bf59eaae6e5ea5a6f61130664fcd260",
        "id": "T9myqbjy3Axa",
        "colab_type": "code",
        "outputId": "2aedf9fb-8501-4b09-affb-d34740fd5ce5",
        "colab": {
          "base_uri": "https://localhost:8080/",
          "height": 35
        }
      },
      "source": [
        "# estimator = 모델, cv는 분할 테스트 숫자\n",
        "rfc_eval = cross_val_score(rfc, X = X, y = y, cv = 5)  \n",
        "rfc_eval  # 5번의 교차 검증 결과를 보여준다"
      ],
      "execution_count": 19,
      "outputs": [
        {
          "output_type": "execute_result",
          "data": {
            "text/plain": [
              "array([0.875     , 0.853125  , 0.88125   , 0.865625  , 0.88401254])"
            ]
          },
          "metadata": {
            "tags": []
          },
          "execution_count": 19
        }
      ]
    },
    {
      "cell_type": "code",
      "metadata": {
        "id": "q8Z708Au3Axe",
        "colab_type": "code",
        "outputId": "6d132c13-7f21-4859-ab43-e94b8133408f",
        "colab": {
          "base_uri": "https://localhost:8080/",
          "height": 35
        }
      },
      "source": [
        "rfc_eval.mean()"
      ],
      "execution_count": 20,
      "outputs": [
        {
          "output_type": "execute_result",
          "data": {
            "text/plain": [
              "0.8718025078369905"
            ]
          },
          "metadata": {
            "tags": []
          },
          "execution_count": 20
        }
      ]
    },
    {
      "cell_type": "markdown",
      "metadata": {
        "id": "1ZpMLqcK3Axh",
        "colab_type": "text"
      },
      "source": [
        "##  정적 평가, 혼돈 매트릭스 (confusion_matrix)"
      ]
    },
    {
      "cell_type": "code",
      "metadata": {
        "_cell_guid": "84334dbd-d36c-4650-87ab-d3e8f73be63c",
        "_uuid": "0fd8c7cd7741be25fd0d5f56d5711e8aaf44ac0f",
        "id": "UkXsBJo73Axi",
        "colab_type": "code",
        "outputId": "6a1b200f-0c5f-478c-e613-175648e2cb68",
        "colab": {
          "base_uri": "https://localhost:8080/",
          "height": 53
        }
      },
      "source": [
        "y_pred = sgd.predict(X_test)\n",
        "confusion_matrix(y_test, y_pred)"
      ],
      "execution_count": 21,
      "outputs": [
        {
          "output_type": "execute_result",
          "data": {
            "text/plain": [
              "array([[239,  30],\n",
              "       [ 23,  28]])"
            ]
          },
          "metadata": {
            "tags": []
          },
          "execution_count": 21
        }
      ]
    },
    {
      "cell_type": "markdown",
      "metadata": {
        "id": "YETRmVnN3Axl",
        "colab_type": "text"
      },
      "source": [
        "아래는 모델이 올바르게 예측했는지를 평가하기 위한 값들이다"
      ]
    },
    {
      "cell_type": "code",
      "metadata": {
        "_cell_guid": "1cc15e56-0589-4fa3-a4f1-6f5e7b5547b2",
        "_uuid": "61e8a79a7db4fef289b8d4e3b3dd8e1c01756697",
        "id": "1E2Rpk9S3Axl",
        "colab_type": "code",
        "outputId": "90ca811a-aba6-4dad-fc77-a04133d74491",
        "colab": {
          "base_uri": "https://localhost:8080/",
          "height": 179
        }
      },
      "source": [
        "print(classification_report(y_test, y_pred))"
      ],
      "execution_count": 22,
      "outputs": [
        {
          "output_type": "stream",
          "text": [
            "              precision    recall  f1-score   support\n",
            "\n",
            "           0       0.91      0.89      0.90       269\n",
            "           1       0.48      0.55      0.51        51\n",
            "\n",
            "    accuracy                           0.83       320\n",
            "   macro avg       0.70      0.72      0.71       320\n",
            "weighted avg       0.84      0.83      0.84       320\n",
            "\n"
          ],
          "name": "stdout"
        }
      ]
    },
    {
      "cell_type": "markdown",
      "metadata": {
        "id": "SPwRTbfW3Axo",
        "colab_type": "text"
      },
      "source": [
        "- Precision  = 모델이 옳다고 한 것이 실제로 옳은 비율     TP / ( TP + FP ) \n",
        "- Recall =  실제 정답인 것들 중, 모델이 정답이라고 예측한 것    TP / TP+FN\n",
        "- f1-score = Precision과 Recall의 조화평균  (2 x  Precision x Recall ) /  (Precision + Recall)\n",
        "- support는 이 모델에서 응답한 샘플의 수이다"
      ]
    },
    {
      "cell_type": "markdown",
      "metadata": {
        "id": "rC4xPQyI3Axo",
        "colab_type": "text"
      },
      "source": [
        "Score (맞다고 생각하는 점수)\n",
        "--"
      ]
    },
    {
      "cell_type": "code",
      "metadata": {
        "id": "tsMV2_rt3Axp",
        "colab_type": "code",
        "colab": {}
      },
      "source": [
        "y_score = sgd.decision_function(X_test)"
      ],
      "execution_count": 0,
      "outputs": []
    },
    {
      "cell_type": "code",
      "metadata": {
        "collapsed": true,
        "id": "3FyWfGKa3Axr",
        "colab_type": "code",
        "outputId": "6fcfafed-fc4d-4cf6-eba7-6ef8b8412a6c",
        "colab": {
          "base_uri": "https://localhost:8080/",
          "height": 1000
        }
      },
      "source": [
        "y_score"
      ],
      "execution_count": 24,
      "outputs": [
        {
          "output_type": "execute_result",
          "data": {
            "text/plain": [
              "array([ 3.71865495e+00, -2.42425666e+00, -2.83694464e+00, -5.11774300e-01,\n",
              "       -2.59982976e+00, -5.11664857e+00,  2.42442868e+00, -6.37637279e+00,\n",
              "       -5.13622165e+00, -3.57381221e+00, -7.13685141e+00, -1.16131652e-01,\n",
              "       -6.57815880e+00, -7.29789067e+00, -5.87446868e+00, -7.09263237e+00,\n",
              "       -6.75127919e+00,  2.11489703e+00, -8.23134588e-01, -2.12615321e+00,\n",
              "       -5.69621681e+00,  3.99553554e-01, -2.75156933e+00,  2.24517704e+00,\n",
              "       -5.57491933e+00,  2.08589616e+00, -4.19901781e+00, -4.69927655e+00,\n",
              "       -3.97926377e+00,  4.38441653e+00, -1.22309523e+00,  3.25361116e-01,\n",
              "        2.44077830e+00,  1.30702693e+00,  7.48605471e-01, -7.57186914e+00,\n",
              "       -3.74016565e-01, -5.09438067e+00, -2.23867089e+00, -6.29055958e+00,\n",
              "       -5.80556638e+00, -7.34711310e+00, -6.36234375e+00, -8.32356303e+00,\n",
              "        1.02691820e+00,  1.23313390e-01, -2.16555640e+00, -4.67085877e+00,\n",
              "       -1.97484155e+00, -5.27600832e+00, -2.25980037e+00, -6.68492309e-01,\n",
              "       -5.13934936e+00,  2.27588353e-01, -5.57491933e+00, -2.88109194e+00,\n",
              "       -4.62736894e+00, -5.53338104e-01, -1.62911981e+00, -6.03872439e+00,\n",
              "       -1.28959694e+01,  1.78361987e+00, -6.66484753e+00, -6.66463493e+00,\n",
              "        9.02479037e-01, -3.89757707e+00, -5.20780813e+00, -6.93047456e+00,\n",
              "       -5.07944457e+00, -3.28442314e+00, -5.99001572e+00, -3.97521251e+00,\n",
              "        2.88947836e-03,  3.06042644e+00, -9.66277465e+00, -1.10671233e+00,\n",
              "       -2.53356693e+00, -1.80276045e+00,  1.03636205e+00, -2.23482195e+00,\n",
              "       -8.12154889e+00, -7.00866827e+00, -5.30103798e+00, -6.49242014e+00,\n",
              "       -2.45353641e+00, -3.27957401e+00, -5.94319112e+00, -5.58381422e+00,\n",
              "        7.62289994e-01, -2.11506337e+00, -6.56770751e+00, -8.82086852e+00,\n",
              "       -1.17199492e+00, -4.65533527e+00, -7.19628316e+00,  1.49915509e+00,\n",
              "       -4.27228495e+00, -5.80469637e+00, -5.54661003e+00, -5.32917161e+00,\n",
              "       -6.52893052e+00, -5.29312953e+00, -2.49194333e+00, -1.02657727e+01,\n",
              "        1.70976028e+00, -8.95936968e+00, -5.20155081e-02, -4.50591302e+00,\n",
              "       -3.29090080e+00, -2.81696180e+00, -1.83655733e+00, -2.72174797e+00,\n",
              "       -5.66156320e+00, -4.02505452e+00, -5.03495588e+00,  3.69219350e+00,\n",
              "       -3.57799247e+00, -4.46012151e+00, -7.56175296e+00, -5.39312983e+00,\n",
              "       -7.56076520e+00, -5.69543408e+00, -4.65061090e+00, -4.71731376e+00,\n",
              "       -4.23932179e+00, -3.41410638e+00, -8.08930871e+00, -5.96435249e+00,\n",
              "       -6.01875820e+00, -2.70320387e+00, -8.31689551e+00, -3.42348913e-01,\n",
              "        4.07300902e-01, -3.78688553e+00, -2.82306080e+00, -2.82778531e+00,\n",
              "       -2.97355935e+00, -7.31517903e+00, -1.61389871e+00,  5.93218548e-01,\n",
              "       -4.23533690e+00,  1.78818572e+00, -7.55448228e+00, -5.71237728e+00,\n",
              "       -6.47059621e+00, -6.22093863e+00,  1.30702693e+00,  5.38666873e-01,\n",
              "       -1.80276045e+00, -4.44539703e+00, -4.28438599e+00, -5.48256479e+00,\n",
              "       -4.61731294e+00, -6.89033173e+00, -1.43991413e-01, -6.16810229e+00,\n",
              "        8.63428420e-01,  1.24952388e+00,  4.86855172e-01, -2.65039309e+00,\n",
              "       -2.85412824e+00, -4.18422902e+00, -4.10337058e+00, -1.18482673e+00,\n",
              "       -4.19166921e+00, -1.26659986e+00, -1.19802468e-01, -1.71900124e+00,\n",
              "       -2.31945725e+00,  9.02862222e-01,  3.75227052e+00, -2.44125427e+00,\n",
              "       -2.43127721e-01, -6.92622925e-01, -6.73874165e-03, -2.63623462e+00,\n",
              "       -2.97960060e+00,  2.80143762e+00, -3.23070515e+00, -3.08106968e+00,\n",
              "       -7.66774635e+00, -1.93516506e+00, -4.97654372e+00, -3.02159450e+00,\n",
              "       -2.23482195e+00, -5.25071820e+00, -3.89247753e+00,  2.16079524e+00,\n",
              "       -6.04938431e+00, -3.57098759e+00, -4.31419304e+00, -2.21476536e+00,\n",
              "       -5.09101044e+00, -3.31581490e-01, -3.63720174e+00, -2.88848973e+00,\n",
              "       -5.25125888e+00, -5.37604670e+00, -1.09536765e+00,  1.21283262e+00,\n",
              "        2.95939012e+00, -3.31825102e+00, -5.60975224e+00, -4.95545073e+00,\n",
              "       -5.20780813e+00,  6.84377152e-01, -1.08057806e+01, -6.19713336e+00,\n",
              "       -8.71300279e+00,  1.80281772e+00, -4.64329108e+00, -1.20003051e+00,\n",
              "       -8.69657604e-01, -6.16537119e+00, -1.55978453e+00, -4.40613748e+00,\n",
              "       -3.64565340e-01, -1.26861022e+00, -2.03242111e+00, -1.89357662e-01,\n",
              "       -5.25008010e+00, -5.87226180e+00, -6.79801751e+00,  6.15075570e-01,\n",
              "       -5.12342956e+00, -6.90953947e+00, -3.46589727e+00, -5.81622452e+00,\n",
              "       -1.44938843e-01, -5.49792011e+00, -4.31910636e+00, -1.77431916e+00,\n",
              "       -5.42696210e+00, -7.34711310e+00, -4.09241382e+00, -3.87392376e+00,\n",
              "       -9.48081167e-01, -6.83827761e+00,  5.06298853e+00, -3.50710930e+00,\n",
              "       -2.92726094e-01, -3.92024946e+00, -2.24184331e+00,  2.44077830e+00,\n",
              "       -3.67554150e+00, -5.44251372e+00,  3.71294223e+00, -8.01306769e+00,\n",
              "       -8.51409666e+00, -3.08047588e+00, -5.66156320e+00, -2.96307743e+00,\n",
              "       -3.02197658e+00, -3.20734957e+00,  1.24952388e+00, -6.34585605e+00,\n",
              "       -7.07376327e+00,  3.14872520e+00, -3.71506211e+00, -1.45779822e-01,\n",
              "       -4.23742223e+00, -5.90655468e+00, -6.80555651e+00, -3.84726874e+00,\n",
              "       -1.77708857e+00, -4.39953936e+00, -3.17708159e+00, -3.28057669e+00,\n",
              "       -7.79679009e+00,  1.09126179e+00,  2.53080268e+00, -3.55385099e+00,\n",
              "       -3.22796371e+00, -1.99261655e+00, -2.31315745e+00, -2.72174797e+00,\n",
              "        1.47917020e+00,  3.79485178e+00, -5.92101698e+00,  3.84394583e+00,\n",
              "       -2.49355016e+00, -8.61174375e+00,  1.27392627e-01,  2.85019931e-01,\n",
              "       -3.24627001e+00, -4.59676789e+00, -3.36087610e+00,  2.57598132e+00,\n",
              "       -7.55782997e+00,  2.71028188e+00, -4.59267062e+00, -1.96090680e+00,\n",
              "       -6.22740251e+00, -2.50308025e+00,  6.08378209e-01, -6.23888973e-01,\n",
              "       -8.69657604e-01, -1.29823369e+00,  1.07383954e+00, -2.79665711e+00,\n",
              "       -3.11649578e+00, -3.78537271e+00, -7.09626846e+00, -1.62256534e+00,\n",
              "       -3.97680774e+00, -3.56630220e+00, -8.08930871e+00, -6.40255954e-01,\n",
              "       -2.26434963e+00, -2.19466254e+00, -2.21458031e+00, -2.54424798e+00,\n",
              "       -8.17915594e+00,  3.53607049e+00, -3.42138638e+00, -4.14323065e+00,\n",
              "       -2.35795827e+00, -5.87743349e+00, -7.71982714e-02,  2.71028188e+00])"
            ]
          },
          "metadata": {
            "tags": []
          },
          "execution_count": 24
        }
      ]
    },
    {
      "cell_type": "markdown",
      "metadata": {
        "id": "ZRy-MvBY3Axu",
        "colab_type": "text"
      },
      "source": [
        "랭킹 (순서를 평가)\n",
        "--"
      ]
    },
    {
      "cell_type": "code",
      "metadata": {
        "scrolled": true,
        "id": "60lsnJVW3Axu",
        "colab_type": "code",
        "outputId": "c6e75183-b708-44c2-d7c7-c2f7180e8ce5",
        "colab": {
          "base_uri": "https://localhost:8080/",
          "height": 204
        }
      },
      "source": [
        "result = pd.DataFrame(list(zip(y_score, y_pred, y_test)), \n",
        "                      columns=['score', 'predict', 'real'])\n",
        "result['correct'] = (result.predict == result.real)\n",
        "result.head()"
      ],
      "execution_count": 25,
      "outputs": [
        {
          "output_type": "execute_result",
          "data": {
            "text/html": [
              "<div>\n",
              "<style scoped>\n",
              "    .dataframe tbody tr th:only-of-type {\n",
              "        vertical-align: middle;\n",
              "    }\n",
              "\n",
              "    .dataframe tbody tr th {\n",
              "        vertical-align: top;\n",
              "    }\n",
              "\n",
              "    .dataframe thead th {\n",
              "        text-align: right;\n",
              "    }\n",
              "</style>\n",
              "<table border=\"1\" class=\"dataframe\">\n",
              "  <thead>\n",
              "    <tr style=\"text-align: right;\">\n",
              "      <th></th>\n",
              "      <th>score</th>\n",
              "      <th>predict</th>\n",
              "      <th>real</th>\n",
              "      <th>correct</th>\n",
              "    </tr>\n",
              "  </thead>\n",
              "  <tbody>\n",
              "    <tr>\n",
              "      <th>0</th>\n",
              "      <td>3.718655</td>\n",
              "      <td>1</td>\n",
              "      <td>0</td>\n",
              "      <td>False</td>\n",
              "    </tr>\n",
              "    <tr>\n",
              "      <th>1</th>\n",
              "      <td>-2.424257</td>\n",
              "      <td>0</td>\n",
              "      <td>0</td>\n",
              "      <td>True</td>\n",
              "    </tr>\n",
              "    <tr>\n",
              "      <th>2</th>\n",
              "      <td>-2.836945</td>\n",
              "      <td>0</td>\n",
              "      <td>0</td>\n",
              "      <td>True</td>\n",
              "    </tr>\n",
              "    <tr>\n",
              "      <th>3</th>\n",
              "      <td>-0.511774</td>\n",
              "      <td>0</td>\n",
              "      <td>0</td>\n",
              "      <td>True</td>\n",
              "    </tr>\n",
              "    <tr>\n",
              "      <th>4</th>\n",
              "      <td>-2.599830</td>\n",
              "      <td>0</td>\n",
              "      <td>0</td>\n",
              "      <td>True</td>\n",
              "    </tr>\n",
              "  </tbody>\n",
              "</table>\n",
              "</div>"
            ],
            "text/plain": [
              "      score  predict  real  correct\n",
              "0  3.718655        1     0    False\n",
              "1 -2.424257        0     0     True\n",
              "2 -2.836945        0     0     True\n",
              "3 -0.511774        0     0     True\n",
              "4 -2.599830        0     0     True"
            ]
          },
          "metadata": {
            "tags": []
          },
          "execution_count": 25
        }
      ]
    },
    {
      "cell_type": "markdown",
      "metadata": {
        "id": "FJkxqtRa3Axx",
        "colab_type": "text"
      },
      "source": [
        "ROC로 성능 평가 (맞춘 순서를 평가)\n",
        "--"
      ]
    },
    {
      "cell_type": "code",
      "metadata": {
        "id": "pldqAeW63Axy",
        "colab_type": "code",
        "outputId": "27bcb0b5-638d-45cd-98b7-64d6d9f08ac3",
        "colab": {
          "base_uri": "https://localhost:8080/",
          "height": 421
        }
      },
      "source": [
        "fpr = dict()\n",
        "tpr = dict()\n",
        "roc_auc = dict()\n",
        "fpr, tpr, _ = roc_curve(y_test, y_score)\n",
        "roc_auc = auc(fpr, tpr)\n",
        "\n",
        "plt.figure(figsize=(6,6))\n",
        "plt.plot(fpr, tpr, label='ROC curve (area = %0.2f)' % roc_auc)\n",
        "plt.plot([0, 1], [0, 1], linestyle='--')\n",
        "plt.xlim([0.0, 1.0])\n",
        "plt.ylim([0.0, 1.05])\n",
        "plt.xlabel('False Positive Rate')\n",
        "plt.ylabel('True Positive Rate')\n",
        "plt.title('ROC')\n",
        "plt.legend(loc=\"lower right\")"
      ],
      "execution_count": 26,
      "outputs": [
        {
          "output_type": "execute_result",
          "data": {
            "text/plain": [
              "<matplotlib.legend.Legend at 0x7f06fa626358>"
            ]
          },
          "metadata": {
            "tags": []
          },
          "execution_count": 26
        },
        {
          "output_type": "display_data",
          "data": {
            "image/png": "[encoded data removed]",
            "text/plain": [
              "<Figure size 432x432 with 1 Axes>"
            ]
          },
          "metadata": {
            "tags": [],
            "image/png": {
              "width": 393,
              "height": 386
            },
            "needs_background": "light"
          }
        }
      ]
    },
    {
      "cell_type": "code",
      "metadata": {
        "id": "cOGF8VN-3Ax1",
        "colab_type": "code",
        "colab": {}
      },
      "source": [
        ""
      ],
      "execution_count": 0,
      "outputs": []
    }
  ]
}