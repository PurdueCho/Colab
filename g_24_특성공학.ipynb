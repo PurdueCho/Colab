{
  "nbformat": 4,
  "nbformat_minor": 0,
  "metadata": {
    "colab": {
      "name": "g_24_특성공학.ipynb",
      "provenance": [],
      "collapsed_sections": []
    },
    "language_info": {
      "codemirror_mode": {
        "name": "ipython",
        "version": 3
      },
      "file_extension": ".py",
      "mimetype": "text/x-python",
      "name": "python",
      "nbconvert_exporter": "python",
      "pygments_lexer": "ipython3",
      "version": "3.6.6"
    },
    "kernelspec": {
      "display_name": "Python 3",
      "language": "python",
      "name": "python3"
    }
  },
  "cells": [
    {
      "cell_type": "markdown",
      "metadata": {
        "id": "8EfCzUpYuJEB",
        "colab_type": "text"
      },
      "source": [
        "# 특성공학\n",
        "## 차원축소\n",
        "### 주성분분석-유방암\n",
        "\n",
        "- tSNE "
      ]
    },
    {
      "cell_type": "code",
      "metadata": {
        "id": "h4bBPfhCuJED",
        "colab_type": "code",
        "colab": {
          "base_uri": "https://localhost:8080/",
          "height": 53
        },
        "outputId": "ab9abbdc-e386-4eaa-9e88-d91e89e472d0"
      },
      "source": [
        "import numpy as np\n",
        "import pandas as pd\n",
        "from sklearn.datasets import load_breast_cancer\n",
        "from sklearn.model_selection import train_test_split, cross_val_score\n",
        "from sklearn.ensemble import RandomForestClassifier \n",
        "from sklearn import feature_selection\n",
        "from sklearn.feature_selection import SelectPercentile\n",
        "from sklearn.preprocessing import StandardScaler\n",
        "from sklearn.decomposition import PCA \n",
        "from sklearn.manifold import TSNE\n",
        "from matplotlib import pyplot as plt\n",
        "import seaborn as sns\n",
        "%matplotlib inline"
      ],
      "execution_count": 1,
      "outputs": [
        {
          "output_type": "stream",
          "text": [
            "/usr/local/lib/python3.6/dist-packages/statsmodels/tools/_testing.py:19: FutureWarning: pandas.util.testing is deprecated. Use the functions in the public API at pandas.testing instead.\n",
            "  import pandas.util.testing as tm\n"
          ],
          "name": "stderr"
        }
      ]
    },
    {
      "cell_type": "code",
      "metadata": {
        "id": "xq-skYDIuJEI",
        "colab_type": "code",
        "colab": {}
      },
      "source": [
        "cancer = load_breast_cancer()\n",
        "X_all = cancer.data\n",
        "y = cancer.target\n",
        "sc = StandardScaler()\n",
        "X_all = sc.fit_transform(X_all)"
      ],
      "execution_count": 0,
      "outputs": []
    },
    {
      "cell_type": "code",
      "metadata": {
        "id": "o6D8iWQGuJEL",
        "colab_type": "code",
        "outputId": "83ab3af8-c20c-42da-934e-46c8a7f467c8",
        "colab": {
          "base_uri": "https://localhost:8080/",
          "height": 35
        }
      },
      "source": [
        "X_all.shape"
      ],
      "execution_count": 3,
      "outputs": [
        {
          "output_type": "execute_result",
          "data": {
            "text/plain": [
              "(569, 30)"
            ]
          },
          "metadata": {
            "tags": []
          },
          "execution_count": 3
        }
      ]
    },
    {
      "cell_type": "code",
      "metadata": {
        "id": "Yc6IVgq4uJER",
        "colab_type": "code",
        "outputId": "ff7dae38-332f-48b9-9f70-f62c9c090368",
        "colab": {
          "base_uri": "https://localhost:8080/",
          "height": 197
        }
      },
      "source": [
        "cancer.feature_names"
      ],
      "execution_count": 4,
      "outputs": [
        {
          "output_type": "execute_result",
          "data": {
            "text/plain": [
              "array(['mean radius', 'mean texture', 'mean perimeter', 'mean area',\n",
              "       'mean smoothness', 'mean compactness', 'mean concavity',\n",
              "       'mean concave points', 'mean symmetry', 'mean fractal dimension',\n",
              "       'radius error', 'texture error', 'perimeter error', 'area error',\n",
              "       'smoothness error', 'compactness error', 'concavity error',\n",
              "       'concave points error', 'symmetry error',\n",
              "       'fractal dimension error', 'worst radius', 'worst texture',\n",
              "       'worst perimeter', 'worst area', 'worst smoothness',\n",
              "       'worst compactness', 'worst concavity', 'worst concave points',\n",
              "       'worst symmetry', 'worst fractal dimension'], dtype='<U23')"
            ]
          },
          "metadata": {
            "tags": []
          },
          "execution_count": 4
        }
      ]
    },
    {
      "cell_type": "markdown",
      "metadata": {
        "id": "ff3BlI3DuJEV",
        "colab_type": "text"
      },
      "source": [
        "## 30개의 특성을 모두 사용하는 경우"
      ]
    },
    {
      "cell_type": "code",
      "metadata": {
        "id": "LYiqPUqrudlE",
        "colab_type": "code",
        "colab": {}
      },
      "source": [
        "rfc = RandomForestClassifier(n_estimators=200)"
      ],
      "execution_count": 0,
      "outputs": []
    },
    {
      "cell_type": "code",
      "metadata": {
        "scrolled": true,
        "id": "Y8khE-51uJEW",
        "colab_type": "code",
        "outputId": "4111f6c7-da90-445c-8493-7224ea27fd33",
        "colab": {
          "base_uri": "https://localhost:8080/",
          "height": 35
        }
      },
      "source": [
        "## 교차검증\n",
        "cross_val_score(rfc, X_all, y, cv=5).mean().round(4)"
      ],
      "execution_count": 6,
      "outputs": [
        {
          "output_type": "execute_result",
          "data": {
            "text/plain": [
              "0.9631"
            ]
          },
          "metadata": {
            "tags": []
          },
          "execution_count": 6
        }
      ]
    },
    {
      "cell_type": "markdown",
      "metadata": {
        "id": "sWaKowWbuJEa",
        "colab_type": "text"
      },
      "source": [
        "## 6개의 특성만 사용하는 경우"
      ]
    },
    {
      "cell_type": "code",
      "metadata": {
        "id": "-sBVJF96uJEb",
        "colab_type": "code",
        "outputId": "383a037c-e741-4180-fad1-69c69c144ea4",
        "colab": {
          "base_uri": "https://localhost:8080/",
          "height": 53
        }
      },
      "source": [
        "fs = SelectPercentile(feature_selection.chi2, percentile = 20)\n",
        "X_P = fs.fit_transform(cancer.data, y)\n",
        "X_P = sc.fit_transform(X_P)\n",
        "cancer.feature_names[fs.get_support()]"
      ],
      "execution_count": 7,
      "outputs": [
        {
          "output_type": "execute_result",
          "data": {
            "text/plain": [
              "array(['mean perimeter', 'mean area', 'area error', 'worst radius',\n",
              "       'worst perimeter', 'worst area'], dtype='<U23')"
            ]
          },
          "metadata": {
            "tags": []
          },
          "execution_count": 7
        }
      ]
    },
    {
      "cell_type": "code",
      "metadata": {
        "id": "7h845znquJEe",
        "colab_type": "code",
        "outputId": "34c957f3-7fbe-47d7-bfce-e9d4d7e71383",
        "colab": {
          "base_uri": "https://localhost:8080/",
          "height": 35
        }
      },
      "source": [
        "cross_val_score(rfc, X_P, y).mean().round(4)"
      ],
      "execution_count": 8,
      "outputs": [
        {
          "output_type": "execute_result",
          "data": {
            "text/plain": [
              "0.9333"
            ]
          },
          "metadata": {
            "tags": []
          },
          "execution_count": 8
        }
      ]
    },
    {
      "cell_type": "markdown",
      "metadata": {
        "id": "c1oEerlcuJEi",
        "colab_type": "text"
      },
      "source": [
        "## 2개의 특성만 사용하는 경우"
      ]
    },
    {
      "cell_type": "code",
      "metadata": {
        "id": "N5g9oG5quJEi",
        "colab_type": "code",
        "outputId": "b5cd7768-caf4-4755-9b19-9f8808e7afc9",
        "colab": {
          "base_uri": "https://localhost:8080/",
          "height": 35
        }
      },
      "source": [
        "# 상위 20%의 유효한 특성만 선택 (6개))\n",
        "fs = SelectPercentile(feature_selection.chi2, percentile = 6)\n",
        "X_P = fs.fit_transform(cancer.data, y)\n",
        "X_P = sc.fit_transform(X_P)\n",
        "cancer.feature_names[fs.get_support()]"
      ],
      "execution_count": 9,
      "outputs": [
        {
          "output_type": "execute_result",
          "data": {
            "text/plain": [
              "array(['mean area', 'worst area'], dtype='<U23')"
            ]
          },
          "metadata": {
            "tags": []
          },
          "execution_count": 9
        }
      ]
    },
    {
      "cell_type": "code",
      "metadata": {
        "id": "XhQQI62XuJEm",
        "colab_type": "code",
        "outputId": "980d367c-a351-486e-ed65-c9c947c37f02",
        "colab": {
          "base_uri": "https://localhost:8080/",
          "height": 35
        }
      },
      "source": [
        "cancer.data.shape, X_P.shape"
      ],
      "execution_count": 10,
      "outputs": [
        {
          "output_type": "execute_result",
          "data": {
            "text/plain": [
              "((569, 30), (569, 2))"
            ]
          },
          "metadata": {
            "tags": []
          },
          "execution_count": 10
        }
      ]
    },
    {
      "cell_type": "code",
      "metadata": {
        "id": "au31ICV-uJEq",
        "colab_type": "code",
        "outputId": "42834890-15d8-45fc-a597-18bb4b99989a",
        "colab": {
          "base_uri": "https://localhost:8080/",
          "height": 35
        }
      },
      "source": [
        "cross_val_score(rfc, X_P, y).mean().round(4)"
      ],
      "execution_count": 11,
      "outputs": [
        {
          "output_type": "execute_result",
          "data": {
            "text/plain": [
              "0.9156"
            ]
          },
          "metadata": {
            "tags": []
          },
          "execution_count": 11
        }
      ]
    },
    {
      "cell_type": "markdown",
      "metadata": {
        "id": "649U7hdruJEu",
        "colab_type": "text"
      },
      "source": [
        "## PCA로 두개의 차원만 사용하는 경우"
      ]
    },
    {
      "cell_type": "code",
      "metadata": {
        "id": "vJpDqpqvuJEv",
        "colab_type": "code",
        "colab": {}
      },
      "source": [
        "pca = PCA(n_components=2)\n",
        "pca_result = pca.fit_transform(X_all)"
      ],
      "execution_count": 0,
      "outputs": []
    },
    {
      "cell_type": "code",
      "metadata": {
        "id": "5wkRsHLUuJEy",
        "colab_type": "code",
        "outputId": "dbf14141-9d94-462b-95ff-3657bc987013",
        "colab": {
          "base_uri": "https://localhost:8080/",
          "height": 374
        }
      },
      "source": [
        "m = ['v', 'o']\n",
        "c = ['r','b']\n",
        "plt.figure(figsize=(8,6))\n",
        "for i in range(len(y)):\n",
        "    plt.scatter(pca_result[:,0][i],pca_result[:,1][i], marker=m[y[i]], c=c[y[i]], s=5)\n",
        "plt.show()"
      ],
      "execution_count": 13,
      "outputs": [
        {
          "output_type": "display_data",
          "data": {
            "image/png": "[encoded data removed]",
            "text/plain": [
              "<Figure size 576x432 with 1 Axes>"
            ]
          },
          "metadata": {
            "tags": [],
            "needs_background": "light"
          }
        }
      ]
    },
    {
      "cell_type": "code",
      "metadata": {
        "id": "BybjlXpnuJE6",
        "colab_type": "code",
        "outputId": "8209b908-62fd-429c-d123-5dabeda173c8",
        "colab": {
          "base_uri": "https://localhost:8080/",
          "height": 161
        }
      },
      "source": [
        "pca.components_.round(3)"
      ],
      "execution_count": 14,
      "outputs": [
        {
          "output_type": "execute_result",
          "data": {
            "text/plain": [
              "array([[ 0.219,  0.104,  0.228,  0.221,  0.143,  0.239,  0.258,  0.261,\n",
              "         0.138,  0.064,  0.206,  0.017,  0.211,  0.203,  0.015,  0.17 ,\n",
              "         0.154,  0.183,  0.042,  0.103,  0.228,  0.104,  0.237,  0.225,\n",
              "         0.128,  0.21 ,  0.229,  0.251,  0.123,  0.132],\n",
              "       [-0.234, -0.06 , -0.215, -0.231,  0.186,  0.152,  0.06 , -0.035,\n",
              "         0.19 ,  0.367, -0.106,  0.09 , -0.089, -0.152,  0.204,  0.233,\n",
              "         0.197,  0.13 ,  0.184,  0.28 , -0.22 , -0.045, -0.2  , -0.219,\n",
              "         0.172,  0.144,  0.098, -0.008,  0.142,  0.275]])"
            ]
          },
          "metadata": {
            "tags": []
          },
          "execution_count": 14
        }
      ]
    },
    {
      "cell_type": "code",
      "metadata": {
        "id": "HDmFt3jpuJFA",
        "colab_type": "code",
        "outputId": "60ab0825-3365-4d5d-c47f-8c58690f6003",
        "colab": {
          "base_uri": "https://localhost:8080/",
          "height": 35
        }
      },
      "source": [
        "pca.explained_variance_ratio_, sum(pca.explained_variance_ratio_)"
      ],
      "execution_count": 15,
      "outputs": [
        {
          "output_type": "execute_result",
          "data": {
            "text/plain": [
              "(array([0.44272026, 0.18971182]), 0.6324320765155943)"
            ]
          },
          "metadata": {
            "tags": []
          },
          "execution_count": 15
        }
      ]
    },
    {
      "cell_type": "markdown",
      "metadata": {
        "id": "UOqII4d_uJFE",
        "colab_type": "text"
      },
      "source": [
        "## 2개의 주성분만 사용하여 분류를 수행"
      ]
    },
    {
      "cell_type": "code",
      "metadata": {
        "id": "KVKMqsOEuJFF",
        "colab_type": "code",
        "outputId": "2ecca740-c6aa-4b11-cdb3-a60ba1caebcd",
        "colab": {
          "base_uri": "https://localhost:8080/",
          "height": 35
        }
      },
      "source": [
        "cross_val_score(rfc, pca_result, y, cv=5).mean().round(4)"
      ],
      "execution_count": 16,
      "outputs": [
        {
          "output_type": "execute_result",
          "data": {
            "text/plain": [
              "0.9315"
            ]
          },
          "metadata": {
            "tags": []
          },
          "execution_count": 16
        }
      ]
    },
    {
      "cell_type": "markdown",
      "metadata": {
        "id": "ve1r8Ep0uJFK",
        "colab_type": "text"
      },
      "source": [
        "## 6개의 주성분만 사용하여 분류를 수행"
      ]
    },
    {
      "cell_type": "code",
      "metadata": {
        "id": "hpWPL4NeuJFL",
        "colab_type": "code",
        "outputId": "9a58b231-7961-4b11-feb8-479068fa640a",
        "colab": {
          "base_uri": "https://localhost:8080/",
          "height": 35
        }
      },
      "source": [
        "pca = PCA(n_components=6)\n",
        "pca_result = pca.fit_transform(X_all)\n",
        "cross_val_score(rfc, pca_result, y, cv=5).mean().round(4)"
      ],
      "execution_count": 17,
      "outputs": [
        {
          "output_type": "execute_result",
          "data": {
            "text/plain": [
              "0.9508"
            ]
          },
          "metadata": {
            "tags": []
          },
          "execution_count": 17
        }
      ]
    },
    {
      "cell_type": "markdown",
      "metadata": {
        "id": "jO0pBPYauJFR",
        "colab_type": "text"
      },
      "source": [
        "## tSNE 시각화"
      ]
    },
    {
      "cell_type": "code",
      "metadata": {
        "id": "rO41E334uJFS",
        "colab_type": "code",
        "outputId": "48a85f51-dfd5-484c-b423-0cd119fd3f05",
        "colab": {
          "base_uri": "https://localhost:8080/",
          "height": 143
        }
      },
      "source": [
        "tsne = TSNE(n_components=2, verbose=1, perplexity=40, n_iter=1000)\n",
        "tsne_results = tsne.fit_transform(cancer.data)"
      ],
      "execution_count": 18,
      "outputs": [
        {
          "output_type": "stream",
          "text": [
            "[t-SNE] Computing 121 nearest neighbors...\n",
            "[t-SNE] Indexed 569 samples in 0.006s...\n",
            "[t-SNE] Computed neighbors for 569 samples in 0.028s...\n",
            "[t-SNE] Computed conditional probabilities for sample 569 / 569\n",
            "[t-SNE] Mean sigma: 33.679708\n",
            "[t-SNE] KL divergence after 250 iterations with early exaggeration: 49.964493\n",
            "[t-SNE] KL divergence after 1000 iterations: 0.236896\n"
          ],
          "name": "stdout"
        }
      ]
    },
    {
      "cell_type": "code",
      "metadata": {
        "id": "8ZNKi2H1uJFW",
        "colab_type": "code",
        "outputId": "186b7127-e8fd-4c9c-8fb8-98fcdbdcf773",
        "colab": {
          "base_uri": "https://localhost:8080/",
          "height": 374
        }
      },
      "source": [
        "m = ['v','o']\n",
        "c = ['r','b']\n",
        "plt.figure(figsize=(8,6))\n",
        "for i in range(len(y)):\n",
        "    plt.scatter(tsne_results[:,0][i],tsne_results[:,1][i], marker=m[y[i]], c=c[y[i]], s=5)\n",
        "plt.show()"
      ],
      "execution_count": 19,
      "outputs": [
        {
          "output_type": "display_data",
          "data": {
            "image/png": "[encoded data removed]",
            "text/plain": [
              "<Figure size 576x432 with 1 Axes>"
            ]
          },
          "metadata": {
            "tags": [],
            "needs_background": "light"
          }
        }
      ]
    },
    {
      "cell_type": "markdown",
      "metadata": {
        "id": "jV56k7qEuJFZ",
        "colab_type": "text"
      },
      "source": [
        "### 표준화 후 시각화"
      ]
    },
    {
      "cell_type": "code",
      "metadata": {
        "id": "KGpq6HO_uJFa",
        "colab_type": "code",
        "outputId": "d5ea602f-98b3-4278-b171-f84dc25061bb",
        "colab": {
          "base_uri": "https://localhost:8080/",
          "height": 143
        }
      },
      "source": [
        "tsne = TSNE(n_components=2, verbose=1, perplexity=40, n_iter=1000)\n",
        "tsne_results = tsne.fit_transform(X_all)"
      ],
      "execution_count": 20,
      "outputs": [
        {
          "output_type": "stream",
          "text": [
            "[t-SNE] Computing 121 nearest neighbors...\n",
            "[t-SNE] Indexed 569 samples in 0.002s...\n",
            "[t-SNE] Computed neighbors for 569 samples in 0.044s...\n",
            "[t-SNE] Computed conditional probabilities for sample 569 / 569\n",
            "[t-SNE] Mean sigma: 1.522404\n",
            "[t-SNE] KL divergence after 250 iterations with early exaggeration: 66.449600\n",
            "[t-SNE] KL divergence after 1000 iterations: 0.889833\n"
          ],
          "name": "stdout"
        }
      ]
    },
    {
      "cell_type": "code",
      "metadata": {
        "id": "yEHImKxGuJFd",
        "colab_type": "code",
        "outputId": "4a98387e-124a-4697-9be2-78a8ff6305af",
        "colab": {
          "base_uri": "https://localhost:8080/",
          "height": 376
        }
      },
      "source": [
        "m = ['v','o']\n",
        "c = ['r','b']\n",
        "plt.figure(figsize=(8,6))\n",
        "for i in range(len(y)):\n",
        "    plt.scatter(tsne_results[:,0][i],tsne_results[:,1][i], marker=m[y[i]], c=c[y[i]], s=5)\n",
        "plt.show()"
      ],
      "execution_count": 21,
      "outputs": [
        {
          "output_type": "display_data",
          "data": {
            "image/png": "[encoded data removed]",
            "text/plain": [
              "<Figure size 576x432 with 1 Axes>"
            ]
          },
          "metadata": {
            "tags": [],
            "needs_background": "light"
          }
        }
      ]
    }
  ]
}