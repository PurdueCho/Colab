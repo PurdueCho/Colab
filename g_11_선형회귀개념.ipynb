{
  "nbformat": 4,
  "nbformat_minor": 0,
  "metadata": {
    "kernelspec": {
      "display_name": "Python 3",
      "language": "python",
      "name": "python3"
    },
    "language_info": {
      "codemirror_mode": {
        "name": "ipython",
        "version": 3
      },
      "file_extension": ".py",
      "mimetype": "text/x-python",
      "name": "python",
      "nbconvert_exporter": "python",
      "pygments_lexer": "ipython3",
      "version": "3.6.6"
    },
    "colab": {
      "name": "g_11_선형회귀개념.ipynb",
      "provenance": [],
      "collapsed_sections": []
    }
  },
  "cells": [
    {
      "cell_type": "markdown",
      "metadata": {
        "id": "Dji53O40dPED",
        "colab_type": "text"
      },
      "source": [
        "선형회귀\n",
        "==\n",
        "- 선형회귀 함수사용\n",
        "- 경사하강법 동작 이해"
      ]
    },
    {
      "cell_type": "markdown",
      "metadata": {
        "id": "eT71GBzTd_kG",
        "colab_type": "text"
      },
      "source": [
        "## 선형회귀 함수 사용법"
      ]
    },
    {
      "cell_type": "code",
      "metadata": {
        "id": "OhhpOOGhdPEG",
        "colab_type": "code",
        "outputId": "b71f1c24-f0a6-4eff-e453-e8847ff5c8c5",
        "colab": {
          "base_uri": "https://localhost:8080/",
          "height": 283
        }
      },
      "source": [
        "import numpy as np\n",
        "import pandas as pd\n",
        "import matplotlib.pyplot as plt\n",
        "%matplotlib inline\n",
        "%config InlineBackend.figure_format = 'retina'\n",
        "\n",
        "n_samples = 200\n",
        "x = np.random.randn(n_samples)\n",
        "\n",
        "# 계수 및 절편\n",
        "w = 2\n",
        "b = 3\n",
        "# 노이지 추가\n",
        "                  # 자신이 인지하고 있는 데이터로 시작을 하는 과정이 필요함!\n",
        "y = w*x + b + np.random.randn(n_samples)*3\n",
        "plt.scatter(x,y, s=10)"
      ],
      "execution_count": 14,
      "outputs": [
        {
          "output_type": "execute_result",
          "data": {
            "text/plain": [
              "<matplotlib.collections.PathCollection at 0x7fdffaad47f0>"
            ]
          },
          "metadata": {
            "tags": []
          },
          "execution_count": 14
        },
        {
          "output_type": "display_data",
          "data": {
            "image/png": "[encoded data removed]",
            "text/plain": [
              "<Figure size 432x288 with 1 Axes>"
            ]
          },
          "metadata": {
            "tags": [],
            "image/png": {
              "width": 380,
              "height": 248
            }
          }
        }
      ]
    },
    {
      "cell_type": "code",
      "metadata": {
        "id": "-_G1Qr6TdPEM",
        "colab_type": "code",
        "outputId": "ac4d8ad2-dd98-4b19-e8fd-39343cdae059",
        "colab": {
          "base_uri": "https://localhost:8080/",
          "height": 53
        }
      },
      "source": [
        "np.corrcoef(x,y) # 상관관계"
      ],
      "execution_count": 15,
      "outputs": [
        {
          "output_type": "execute_result",
          "data": {
            "text/plain": [
              "array([[1.        , 0.59256662],\n",
              "       [0.59256662, 1.        ]])"
            ]
          },
          "metadata": {
            "tags": []
          },
          "execution_count": 15
        }
      ]
    },
    {
      "cell_type": "code",
      "metadata": {
        "id": "jNa4akPSdPEQ",
        "colab_type": "code",
        "outputId": "6ee4a40c-6301-42ae-d722-8cb96677f899",
        "colab": {
          "base_uri": "https://localhost:8080/",
          "height": 53
        }
      },
      "source": [
        "# 모델 생성(선택) -> 모델 학습(fit) -> 예측\n",
        "# 파이썬이 제공하는 머신러닝 모델 중 선형 회귀 모델\n",
        "from sklearn.linear_model import LinearRegression\n",
        "model = LinearRegression()              # Constructor\n",
        "model.fit(x.reshape(-1,1), y)           # Data 의 학습, Default = GD, MSE 사용\n",
        "                                      # reshape(-1, 1)? : 1차원 벡터를 사용해서 2차원 구조로 만든것\n",
        "                                      # 머신러닝 모델은 적어도 2차원이 필요함 --> 약속\n",
        "\n",
        "print(model.coef_)                      # W\n",
        "print(model.intercept_)                 # B"
      ],
      "execution_count": 18,
      "outputs": [
        {
          "output_type": "stream",
          "text": [
            "[1.96966205]\n",
            "3.180063922134803\n"
          ],
          "name": "stdout"
        }
      ]
    },
    {
      "cell_type": "code",
      "metadata": {
        "id": "Offx2U5QyCvR",
        "colab_type": "code",
        "colab": {
          "base_uri": "https://localhost:8080/",
          "height": 35
        },
        "outputId": "81a2e21a-f0d4-4bcb-faef-f947ab8cd3ea"
      },
      "source": [
        "type(model)"
      ],
      "execution_count": 19,
      "outputs": [
        {
          "output_type": "execute_result",
          "data": {
            "text/plain": [
              "sklearn.linear_model._base.LinearRegression"
            ]
          },
          "metadata": {
            "tags": []
          },
          "execution_count": 19
        }
      ]
    },
    {
      "cell_type": "markdown",
      "metadata": {
        "id": "KcCTA465e70_",
        "colab_type": "text"
      },
      "source": [
        "## 모델을 예측에 사용하기"
      ]
    },
    {
      "cell_type": "code",
      "metadata": {
        "id": "WWkkUZaWeuik",
        "colab_type": "code",
        "outputId": "b972cf10-27cc-462d-9e39-a82bc6558ff5",
        "colab": {
          "base_uri": "https://localhost:8080/",
          "height": 35
        }
      },
      "source": [
        "model.predict([[1],[5],[10]])   # 예측기"
      ],
      "execution_count": 20,
      "outputs": [
        {
          "output_type": "execute_result",
          "data": {
            "text/plain": [
              "array([ 5.14972597, 13.02837415, 22.87668439])"
            ]
          },
          "metadata": {
            "tags": []
          },
          "execution_count": 20
        }
      ]
    },
    {
      "cell_type": "markdown",
      "metadata": {
        "id": "rz97pUnieFG1",
        "colab_type": "text"
      },
      "source": [
        "## 경사하강법 구현"
      ]
    },
    {
      "cell_type": "markdown",
      "metadata": {
        "colab_type": "text",
        "id": "hRjW17p9d7tF"
      },
      "source": [
        "변수가 1개인 경우\n",
        "--"
      ]
    },
    {
      "cell_type": "code",
      "metadata": {
        "scrolled": false,
        "colab_type": "code",
        "outputId": "4e15f31a-cde8-45bf-d55f-ca825908cd67",
        "id": "o5UNgpdNd7tV",
        "colab": {
          "base_uri": "https://localhost:8080/",
          "height": 197
        }
      },
      "source": [
        "num_epoch = 10    # 얼마나 사용할건지\n",
        "lr = 1.0          # learning rate \n",
        "\n",
        "# 초기 값은 랜덤하게 설정\n",
        "w = np.random.uniform()\n",
        "b = np.random.uniform()\n",
        "\n",
        "for epoch in range(num_epoch):\n",
        "    y_pred = w*x + b   # y의 예측 값\n",
        "    error = np.abs(y_pred - y).mean() # 예측값 - 실제값 (에러) 의 평균치\n",
        "    print(f\"{epoch:2} w = {w:.6f}, b = {b:.6f} , error = {error:.6f}\")\n",
        "\n",
        "    # GD\n",
        "    w = w - lr*((y_pred - y)* x).mean()\n",
        "    b = b - lr*((y_pred - y)).mean()"
      ],
      "execution_count": 23,
      "outputs": [
        {
          "output_type": "stream",
          "text": [
            " 0 w = 0.510509, b = 0.437717 , error = 3.425436\n",
            " 1 w = 2.129609, b = 3.257771 , error = 2.169915\n",
            " 2 w = 1.964000, b = 3.171546 , error = 2.163144\n",
            " 3 w = 1.970170, b = 3.180365 , error = 2.163251\n",
            " 4 w = 1.969641, b = 3.180037 , error = 2.163246\n",
            " 5 w = 1.969664, b = 3.180065 , error = 2.163246\n",
            " 6 w = 1.969662, b = 3.180064 , error = 2.163246\n",
            " 7 w = 1.969662, b = 3.180064 , error = 2.163246\n",
            " 8 w = 1.969662, b = 3.180064 , error = 2.163246\n",
            " 9 w = 1.969662, b = 3.180064 , error = 2.163246\n"
          ],
          "name": "stdout"
        }
      ]
    },
    {
      "cell_type": "markdown",
      "metadata": {
        "id": "eu6hl1RrdPET",
        "colab_type": "text"
      },
      "source": [
        "변수가 2개인 경우\n",
        "--"
      ]
    },
    {
      "cell_type": "code",
      "metadata": {
        "id": "uMvk79oHdPEU",
        "colab_type": "code",
        "outputId": "453993a9-e6e3-4613-aee3-076fc7ca3b2a",
        "colab": {
          "base_uri": "https://localhost:8080/",
          "height": 53
        }
      },
      "source": [
        "n_samples = 200\n",
        "x1 = np.random.randn(n_samples)\n",
        "x2 = np.random.randn(n_samples)\n",
        "\n",
        "# Multi variate (2)\n",
        "y = 2 * x1 + 3 * x2 + 4 + np.random.randn(n_samples)\n",
        "\n",
        "model = LinearRegression()\n",
        "X = pd.DataFrame({'x1':x1, 'x2':x2})\n",
        "model.fit(X, y)\n",
        "\n",
        "print(model.coef_)\n",
        "print(model.intercept_)"
      ],
      "execution_count": 29,
      "outputs": [
        {
          "output_type": "stream",
          "text": [
            "[2.1487228  2.97966299]\n",
            "4.0185026382280205\n"
          ],
          "name": "stdout"
        }
      ]
    },
    {
      "cell_type": "code",
      "metadata": {
        "id": "s32v7aQudPEY",
        "colab_type": "code",
        "outputId": "0b0b0677-7643-4428-b693-5dc806d0e2a8",
        "colab": {
          "base_uri": "https://localhost:8080/",
          "height": 35
        }
      },
      "source": [
        "model.score(X,y)"
      ],
      "execution_count": 31,
      "outputs": [
        {
          "output_type": "execute_result",
          "data": {
            "text/plain": [
              "0.935427296662616"
            ]
          },
          "metadata": {
            "tags": []
          },
          "execution_count": 31
        }
      ]
    },
    {
      "cell_type": "markdown",
      "metadata": {
        "id": "ALIlKV_jdPEc",
        "colab_type": "text"
      },
      "source": [
        "경사하강법\n",
        "--"
      ]
    },
    {
      "cell_type": "code",
      "metadata": {
        "scrolled": false,
        "id": "o-aYcmQOdPEd",
        "colab_type": "code",
        "outputId": "40737f9d-5c1a-4604-cb42-3b42b639c761",
        "colab": {
          "base_uri": "https://localhost:8080/",
          "height": 197
        }
      },
      "source": [
        "num_epoch = 10\n",
        "lr = 1\n",
        "\n",
        "w1 = np.random.uniform()\n",
        "w2 = np.random.uniform()\n",
        "b = np.random.uniform()\n",
        "\n",
        "for epoch in range(num_epoch):\n",
        "    y_pred = w1*x1 + w2*x2 + b\n",
        "    error = np.abs(y_pred - y).mean()\n",
        "    print(f\"{epoch:2} w1 = {w1:.6f},  w2 = {w2:.6f}, b = {b:.6f} , error = {error:.6f}\")\n",
        "\n",
        "    w1 = w1 - lr*((y_pred - y)* x1).mean()\n",
        "    w2 = w2 - lr*((y_pred - y)* x2).mean()\n",
        "    b = b - lr*((y_pred - y)).mean()"
      ],
      "execution_count": 38,
      "outputs": [
        {
          "output_type": "stream",
          "text": [
            " 0 w1 = 0.136551,  w2 = 0.681067, b = 0.956702 , error = 3.507065\n",
            " 1 w1 = 2.494904,  w2 = 2.432749, b = 3.798889 , error = 0.926594\n",
            " 2 w1 = 2.125911,  w2 = 2.901464, b = 3.939615 , error = 0.789407\n",
            " 3 w1 = 2.154774,  w2 = 2.963573, b = 4.009558 , error = 0.790261\n",
            " 4 w1 = 2.148577,  w2 = 2.977110, b = 4.016315 , error = 0.790295\n",
            " 5 w1 = 2.148843,  w2 = 2.979178, b = 4.018191 , error = 0.790439\n",
            " 6 w1 = 2.148726,  w2 = 2.979582, b = 4.018439 , error = 0.790452\n",
            " 7 w1 = 2.148726,  w2 = 2.979648, b = 4.018492 , error = 0.790456\n",
            " 8 w1 = 2.148723,  w2 = 2.979660, b = 4.018501 , error = 0.790456\n",
            " 9 w1 = 2.148723,  w2 = 2.979663, b = 4.018502 , error = 0.790456\n"
          ],
          "name": "stdout"
        }
      ]
    },
    {
      "cell_type": "code",
      "metadata": {
        "id": "SzI_9y8bdPEl",
        "colab_type": "code",
        "colab": {}
      },
      "source": [
        ""
      ],
      "execution_count": 0,
      "outputs": []
    },
    {
      "cell_type": "code",
      "metadata": {
        "id": "x-3xzT1sdPEo",
        "colab_type": "code",
        "colab": {}
      },
      "source": [
        ""
      ],
      "execution_count": 0,
      "outputs": []
    }
  ]
}